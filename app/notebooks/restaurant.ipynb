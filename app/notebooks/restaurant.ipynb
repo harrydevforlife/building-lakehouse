{
 "cells": [
  {
   "cell_type": "code",
   "execution_count": 2,
   "metadata": {},
   "outputs": [],
   "source": [
    "from collections import defaultdict, Counter\n",
    "from functools import partial\n",
    "import json\n",
    "import matplotlib\n",
    "import matplotlib.pyplot as plt\n",
    "import numpy as np\n",
    "import os\n",
    "import pickle\n",
    "import pandas as pd\n",
    "from pywaffle import Waffle\n",
    "import squarify\n",
    "import scipy\n",
    "from sklearn.feature_extraction.text import TfidfVectorizer, CountVectorizer\n",
    "from sklearn.metrics.pairwise import linear_kernel, cosine_similarity\n",
    "from wordcloud import WordCloud\n",
    "\n",
    "import findspark\n",
    "findspark.init()\n",
    "from pyspark.sql import SparkSession\n",
    "from pyspark.sql import Window\n",
    "from pyspark.sql.window import *\n",
    "from pyspark.sql.functions import *\n",
    "from pyspark.sql.types import *\n",
    "from pyspark.ml.recommendation import ALSModel"
   ]
  },
  {
   "cell_type": "code",
   "execution_count": 3,
   "metadata": {},
   "outputs": [],
   "source": [
    "spark = SparkSession.builder \\\n",
    "    .appName(\"MyApp\") \\\n",
    "    .master(\"local\") \\\n",
    "    .getOrCreate()"
   ]
  },
  {
   "cell_type": "code",
   "execution_count": 4,
   "metadata": {},
   "outputs": [],
   "source": [
    "business = spark.read.json(\"../../temp/yelp_json_yelp_academic_dataset_business.json\")\n",
    "review = spark.read.json(\"../../temp/yelp_json_yelp_academic_dataset_review.json\")\n",
    "user = spark.read.json(\"../../temp/yelp_json_yelp_academic_dataset_user.json\")"
   ]
  },
  {
   "cell_type": "code",
   "execution_count": 5,
   "metadata": {},
   "outputs": [],
   "source": [
    "userRatings=review.groupBy(\"user_id\").count().select('user_id')\n",
    "window = Window.orderBy(col('user_id'))\n",
    "userRatings = userRatings.withColumn('userid', row_number().over(window))\n",
    "buiRatings=review.groupBy(\"business_id\").count().select('business_id')\n",
    "window = Window.orderBy(col('business_id'))\n",
    "buiRatings = buiRatings.withColumn('businessid', row_number().over(window))\n",
    "newratings=review.join(userRatings, ['user_id'])\n",
    "newratings=newratings.join(buiRatings, ['business_id'])\n",
    "newratings=newratings.withColumn(\"stars\",col(\"stars\").cast(IntegerType()))\n",
    "newratings=newratings.withColumn(\"date\",to_timestamp(\"date\"))"
   ]
  },
  {
   "cell_type": "code",
   "execution_count": 6,
   "metadata": {},
   "outputs": [
    {
     "name": "stdout",
     "output_type": "stream",
     "text": [
      "+--------------------+----+-------------------+-----+--------------------+-----+--------------------+------+--------------------+\n",
      "|         business_id|cool|               date|funny|           review_id|stars|                text|useful|             user_id|\n",
      "+--------------------+----+-------------------+-----+--------------------+-----+--------------------+------+--------------------+\n",
      "|XQfwVwDr-v0ZS3_Cb...|   0|2018-07-07 22:09:11|    0|KU_O5udG6zpxOg-Vc...|  3.0|If you decide to ...|     0|mh_-eMZ6K5RLWhZyI...|\n",
      "|7ATYjTIgM3jUlt4UM...|   1|2012-01-03 15:28:18|    0|BiTunyQ73aT9WBnpR...|  5.0|I've taken a lot ...|     1|OyoGAe7OKpv6SyGZT...|\n",
      "|YjUWPpI6HXG530lwP...|   0|2014-02-05 20:30:30|    0|saUsX_uimxRlCVr67...|  3.0|Family diner. Had...|     0|8g_iMtfSiwikVnbP2...|\n",
      "|kxX2SOes4o-D3ZQBk...|   1|2015-01-04 00:01:03|    0|AqPFMleE6RsU23_au...|  5.0|Wow!  Yummy, diff...|     1|_7bHUi9Uuf5__HHc_...|\n",
      "|e4Vwtrqf-wpJfwesg...|   1|2017-01-14 20:54:15|    0|Sx8TMOWLNuJBWer-0...|  4.0|Cute interior and...|     1|bcjbaE6dDog4jkNY9...|\n",
      "+--------------------+----+-------------------+-----+--------------------+-----+--------------------+------+--------------------+\n",
      "only showing top 5 rows\n",
      "\n",
      "+--------------------+--------------------+--------------------+--------------------+-------------+--------------------+-------+----------+------------+--------------------+-----------+------------+-----+-----+\n",
      "|             address|          attributes|         business_id|          categories|         city|               hours|is_open|  latitude|   longitude|                name|postal_code|review_count|stars|state|\n",
      "+--------------------+--------------------+--------------------+--------------------+-------------+--------------------+-------+----------+------------+--------------------+-----------+------------+-----+-----+\n",
      "|1616 Chapala St, ...|{null, null, null...|Pns2l4eNsfO8kk83d...|Doctors, Traditio...|Santa Barbara|                null|      0|34.4266787|-119.7111968|Abby Rappoport, L...|      93101|           7|  5.0|   CA|\n",
      "|87 Grasso Plaza S...|{null, null, null...|mpf3x-BjTdTEA3yCZ...|Shipping Centers,...|       Affton|{8:0-18:30, 0:0-0...|      1| 38.551126|  -90.335695|       The UPS Store|      63123|          15|  3.0|   MO|\n",
      "|5255 E Broadway Blvd|{null, null, null...|tUFrWirKiKi_TAnsV...|Department Stores...|       Tucson|{8:0-23:0, 8:0-22...|      0| 32.223236| -110.880452|              Target|      85711|          22|  3.5|   AZ|\n",
      "|         935 Race St|{null, null, u'no...|MTSW4McQd7CbVtyjq...|Restaurants, Food...| Philadelphia|{7:0-21:0, 7:0-20...|      1|39.9555052| -75.1555641|  St Honore Pastries|      19107|          80|  4.0|   PA|\n",
      "|       101 Walnut St|{null, null, null...|mWMc6_wTdE0EUBKIG...|Brewpubs, Breweri...|   Green Lane|{12:0-22:0, null,...|      1|40.3381827| -75.4716585|Perkiomen Valley ...|      18054|          13|  4.5|   PA|\n",
      "+--------------------+--------------------+--------------------+--------------------+-------------+--------------------+-------+----------+------------+--------------------+-----------+------------+-----+-----+\n",
      "only showing top 5 rows\n",
      "\n",
      "+-------------+---------------+---------------+----------------+--------------+---------------+---------------+---------------+-----------------+----------------+------------------+-----------------+-----+--------------------+----+--------------------+-----+------+------------+------+--------------------+-------------------+\n",
      "|average_stars|compliment_cool|compliment_cute|compliment_funny|compliment_hot|compliment_list|compliment_more|compliment_note|compliment_photos|compliment_plain|compliment_profile|compliment_writer| cool|               elite|fans|             friends|funny|  name|review_count|useful|             user_id|      yelping_since|\n",
      "+-------------+---------------+---------------+----------------+--------------+---------------+---------------+---------------+-----------------+----------------+------------------+-----------------+-----+--------------------+----+--------------------+-----+------+------------+------+--------------------+-------------------+\n",
      "|         3.91|            467|             56|             467|           250|             18|             65|            232|              180|             844|                55|              239| 5994|                2007| 267|NSCy54eWehBJyZdG2...| 1259|Walker|         585|  7217|qVc8ODYU5SZjKXVBg...|2007-01-25 16:47:26|\n",
      "|         3.74|           3131|            157|            3131|          1145|            251|            264|           1847|             1946|            7054|               184|             1521|27281|2009,2010,2011,20...|3138|ueRPE0CX75ePGMqOF...|13066|Daniel|        4333| 43091|j14WgRoU_-2ZE1aw1...|2009-01-25 04:35:42|\n",
      "|         3.32|            119|             17|             119|            89|              3|             13|             66|               18|              96|                10|               35| 1003|2009,2010,2011,20...|  52|LuO3Bn4f3rlhyHIaN...| 1010| Steph|         665|  2086|2WnXYQFK0hXEoTxPt...|2008-07-25 10:41:00|\n",
      "|         4.27|             26|              6|              26|            24|              2|              4|             12|                9|              16|                 1|               10|  299|      2009,2010,2011|  28|enx1vVPnfdNUdPho6...|  330|  Gwen|         224|   512|SZDeASXq7o05mMNLs...|2005-11-29 04:38:33|\n",
      "|         3.54|              0|              0|               0|             1|              0|              1|              1|                0|               1|                 0|                0|    7|                    |   1|PBK4q9KEEBHhFvSXC...|   15| Karen|          79|    29|hA5lMy-EnncsH4JoR...|2007-01-05 19:40:59|\n",
      "+-------------+---------------+---------------+----------------+--------------+---------------+---------------+---------------+-----------------+----------------+------------------+-----------------+-----+--------------------+----+--------------------+-----+------+------------+------+--------------------+-------------------+\n",
      "only showing top 5 rows\n",
      "\n"
     ]
    }
   ],
   "source": [
    "review.show(5)\n",
    "business.show(5)\n",
    "user.show(5)"
   ]
  },
  {
   "attachments": {},
   "cell_type": "markdown",
   "metadata": {},
   "source": [
    "### Weighted Average <a class=\"anchor\" id=\"Weighted_average\"></a>"
   ]
  },
  {
   "cell_type": "code",
   "execution_count": 7,
   "metadata": {},
   "outputs": [
    {
     "data": {
      "text/plain": [
       "(4.408811766467476, 20)"
      ]
     },
     "execution_count": 7,
     "metadata": {},
     "output_type": "execute_result"
    }
   ],
   "source": [
    "from pyspark.sql.functions import avg,count\n",
    "res=newratings.groupBy('businessid','business_id').agg(avg(\"stars\").alias(\"meanStar\"),count('stars').alias('numRate'))\n",
    "res=res.filter((col('meanStar')>4) & (col('numRate')>20))\n",
    "butemp=business.select('business_id','name','categories','address','city','state','is_open')\n",
    "res=res.join(butemp,['business_id'])\n",
    "del butemp\n",
    "\n",
    "C = res.select(mean ('meanStar')).collect()[0][0]\n",
    "m=20\n",
    "\n",
    "C, m"
   ]
  },
  {
   "cell_type": "code",
   "execution_count": 8,
   "metadata": {},
   "outputs": [],
   "source": [
    "def weighted_rating(x, m=m, C=C):\n",
    "    v=x.toPandas()['numRate']\n",
    "    R=x.toPandas()['meanStar']\n",
    "    return (v/(v+m) * R) + (m/(m+v) * C)"
   ]
  },
  {
   "cell_type": "code",
   "execution_count": 9,
   "metadata": {},
   "outputs": [],
   "source": [
    "def getUniqueDF(df):\n",
    "    window_spec = Window.partitionBy('businessid').orderBy(col('stars').desc(),col('date').desc(),length('text').desc())\n",
    "    df_with_row_number = df.withColumn('row_number', row_number().over(window_spec))\n",
    "    df_with_row_number=df_with_row_number.filter(col('row_number')==1).select('review_id','business_id','businessid','text','meanStar','name','numRate','categories','address','city','state','is_open')\n",
    "    return df_with_row_number"
   ]
  },
  {
   "cell_type": "code",
   "execution_count": 10,
   "metadata": {},
   "outputs": [
    {
     "name": "stdout",
     "output_type": "stream",
     "text": [
      "22686\n",
      "22686\n"
     ]
    }
   ],
   "source": [
    "print(res.count())\n",
    "res=res.join(newratings,['businessid','business_id'])\n",
    "q_res=getUniqueDF(res)\n",
    "print(q_res.count())"
   ]
  },
  {
   "cell_type": "code",
   "execution_count": 11,
   "metadata": {},
   "outputs": [],
   "source": [
    "score = weighted_rating(q_res)\n",
    "\n",
    "q_ress=q_res.toPandas()\n",
    "q_ress['score']=score"
   ]
  },
  {
   "cell_type": "code",
   "execution_count": 12,
   "metadata": {},
   "outputs": [
    {
     "data": {
      "text/html": [
       "<div>\n",
       "<style scoped>\n",
       "    .dataframe tbody tr th:only-of-type {\n",
       "        vertical-align: middle;\n",
       "    }\n",
       "\n",
       "    .dataframe tbody tr th {\n",
       "        vertical-align: top;\n",
       "    }\n",
       "\n",
       "    .dataframe thead th {\n",
       "        text-align: right;\n",
       "    }\n",
       "</style>\n",
       "<table border=\"1\" class=\"dataframe\">\n",
       "  <thead>\n",
       "    <tr style=\"text-align: right;\">\n",
       "      <th></th>\n",
       "      <th>businessid</th>\n",
       "      <th>business_id</th>\n",
       "      <th>name</th>\n",
       "      <th>score</th>\n",
       "      <th>categories</th>\n",
       "      <th>address</th>\n",
       "      <th>city</th>\n",
       "      <th>state</th>\n",
       "      <th>is_open</th>\n",
       "    </tr>\n",
       "  </thead>\n",
       "  <tbody>\n",
       "    <tr>\n",
       "      <th>14721</th>\n",
       "      <td>56737</td>\n",
       "      <td>NDwoKO79_T49UEKVDlHd3A</td>\n",
       "      <td>Sustainable Wine Tours</td>\n",
       "      <td>4.953705</td>\n",
       "      <td>Wine Tours, Hotels &amp; Travel, Tours, Transporta...</td>\n",
       "      <td>27 West Anapamu St, Ste 104</td>\n",
       "      <td>Santa Barbara</td>\n",
       "      <td>CA</td>\n",
       "      <td>1</td>\n",
       "    </tr>\n",
       "    <tr>\n",
       "      <th>16775</th>\n",
       "      <td>28619</td>\n",
       "      <td>B2Tuf5M1wQhdwAKnD-w7Yw</td>\n",
       "      <td>New Orleans Airboat Tours</td>\n",
       "      <td>4.928681</td>\n",
       "      <td>Tours, Active Life, Bus Tours, Hotels &amp; Travel...</td>\n",
       "      <td>4757 Orleans Way</td>\n",
       "      <td>Marrero</td>\n",
       "      <td>LA</td>\n",
       "      <td>1</td>\n",
       "    </tr>\n",
       "    <tr>\n",
       "      <th>18859</th>\n",
       "      <td>3142</td>\n",
       "      <td>0IjDqJexP6jTH4F_Kg4mrQ</td>\n",
       "      <td>A New Twist Balloons and Face Painting</td>\n",
       "      <td>4.925168</td>\n",
       "      <td>Event Planning &amp; Services, Face Painting, Fest...</td>\n",
       "      <td></td>\n",
       "      <td>Boise</td>\n",
       "      <td>ID</td>\n",
       "      <td>1</td>\n",
       "    </tr>\n",
       "    <tr>\n",
       "      <th>759</th>\n",
       "      <td>100646</td>\n",
       "      <td>ez4kMLP6OJEIaMbMrrGRdA</td>\n",
       "      <td>New Orleans Secrets Tours</td>\n",
       "      <td>4.920238</td>\n",
       "      <td>Souvenir Shops, Historical Tours, Arts &amp; Enter...</td>\n",
       "      <td>519 Wilkinson St, Ste 100</td>\n",
       "      <td>New Orleans</td>\n",
       "      <td>LA</td>\n",
       "      <td>1</td>\n",
       "    </tr>\n",
       "    <tr>\n",
       "      <th>20553</th>\n",
       "      <td>90747</td>\n",
       "      <td>ak-RiYgUZzM_90c8ONWFzw</td>\n",
       "      <td>Burgundy Blue Photography</td>\n",
       "      <td>4.920082</td>\n",
       "      <td>Professional Services, Event Planning &amp; Servic...</td>\n",
       "      <td>1100 Anacapa St</td>\n",
       "      <td>Santa Barbara</td>\n",
       "      <td>CA</td>\n",
       "      <td>1</td>\n",
       "    </tr>\n",
       "  </tbody>\n",
       "</table>\n",
       "</div>"
      ],
      "text/plain": [
       "       businessid             business_id  \\\n",
       "14721       56737  NDwoKO79_T49UEKVDlHd3A   \n",
       "16775       28619  B2Tuf5M1wQhdwAKnD-w7Yw   \n",
       "18859        3142  0IjDqJexP6jTH4F_Kg4mrQ   \n",
       "759        100646  ez4kMLP6OJEIaMbMrrGRdA   \n",
       "20553       90747  ak-RiYgUZzM_90c8ONWFzw   \n",
       "\n",
       "                                         name     score  \\\n",
       "14721                  Sustainable Wine Tours  4.953705   \n",
       "16775               New Orleans Airboat Tours  4.928681   \n",
       "18859  A New Twist Balloons and Face Painting  4.925168   \n",
       "759                 New Orleans Secrets Tours  4.920238   \n",
       "20553               Burgundy Blue Photography  4.920082   \n",
       "\n",
       "                                              categories  \\\n",
       "14721  Wine Tours, Hotels & Travel, Tours, Transporta...   \n",
       "16775  Tours, Active Life, Bus Tours, Hotels & Travel...   \n",
       "18859  Event Planning & Services, Face Painting, Fest...   \n",
       "759    Souvenir Shops, Historical Tours, Arts & Enter...   \n",
       "20553  Professional Services, Event Planning & Servic...   \n",
       "\n",
       "                           address           city state  is_open  \n",
       "14721  27 West Anapamu St, Ste 104  Santa Barbara    CA        1  \n",
       "16775             4757 Orleans Way        Marrero    LA        1  \n",
       "18859                                       Boise    ID        1  \n",
       "759      519 Wilkinson St, Ste 100    New Orleans    LA        1  \n",
       "20553              1100 Anacapa St  Santa Barbara    CA        1  "
      ]
     },
     "execution_count": 12,
     "metadata": {},
     "output_type": "execute_result"
    }
   ],
   "source": [
    "q_ressPD = q_ress.sort_values('score', ascending=False)\n",
    "q_ressPD[['businessid','business_id', 'name','score','categories','address','city','state','is_open']].head(5)"
   ]
  },
  {
   "cell_type": "code",
   "execution_count": 13,
   "metadata": {},
   "outputs": [],
   "source": [
    "with open('../data/res_scores.pickle', 'wb') as handle:\n",
    "    pickle.dump(q_ressPD[['businessid','business_id', 'name','score','categories','address','city','state','is_open']], handle, protocol=pickle.HIGHEST_PROTOCOL)"
   ]
  },
  {
   "attachments": {},
   "cell_type": "markdown",
   "metadata": {},
   "source": [
    "### Content based <a class=\"anchor\" id=\"Content_based\"></a>"
   ]
  },
  {
   "cell_type": "code",
   "execution_count": 14,
   "metadata": {},
   "outputs": [
    {
     "data": {
      "text/html": [
       "<div>\n",
       "<style scoped>\n",
       "    .dataframe tbody tr th:only-of-type {\n",
       "        vertical-align: middle;\n",
       "    }\n",
       "\n",
       "    .dataframe tbody tr th {\n",
       "        vertical-align: top;\n",
       "    }\n",
       "\n",
       "    .dataframe thead th {\n",
       "        text-align: right;\n",
       "    }\n",
       "</style>\n",
       "<table border=\"1\" class=\"dataframe\">\n",
       "  <thead>\n",
       "    <tr style=\"text-align: right;\">\n",
       "      <th></th>\n",
       "      <th>review_id</th>\n",
       "      <th>business_id</th>\n",
       "      <th>businessid</th>\n",
       "      <th>text</th>\n",
       "      <th>meanStar</th>\n",
       "      <th>name</th>\n",
       "      <th>numRate</th>\n",
       "      <th>categories</th>\n",
       "      <th>address</th>\n",
       "      <th>city</th>\n",
       "      <th>state</th>\n",
       "      <th>is_open</th>\n",
       "      <th>score</th>\n",
       "    </tr>\n",
       "  </thead>\n",
       "  <tbody>\n",
       "    <tr>\n",
       "      <th>14721</th>\n",
       "      <td>X767MHcDjzoKIVkTZe_9gQ</td>\n",
       "      <td>NDwoKO79_T49UEKVDlHd3A</td>\n",
       "      <td>56737</td>\n",
       "      <td>Fantastic, first class experience both tasting...</td>\n",
       "      <td>4.983562</td>\n",
       "      <td>Sustainable Wine Tours</td>\n",
       "      <td>365</td>\n",
       "      <td>Wine Tours, Hotels &amp; Travel, Tours, Transporta...</td>\n",
       "      <td>27 West Anapamu St, Ste 104</td>\n",
       "      <td>Santa Barbara</td>\n",
       "      <td>CA</td>\n",
       "      <td>1</td>\n",
       "      <td>4.953705</td>\n",
       "    </tr>\n",
       "    <tr>\n",
       "      <th>16775</th>\n",
       "      <td>JAzjsCSnB8RAZ6g_p9uLcg</td>\n",
       "      <td>B2Tuf5M1wQhdwAKnD-w7Yw</td>\n",
       "      <td>28619</td>\n",
       "      <td>This is a wonderful trip on a warm winter day....</td>\n",
       "      <td>4.965035</td>\n",
       "      <td>New Orleans Airboat Tours</td>\n",
       "      <td>286</td>\n",
       "      <td>Tours, Active Life, Bus Tours, Hotels &amp; Travel...</td>\n",
       "      <td>4757 Orleans Way</td>\n",
       "      <td>Marrero</td>\n",
       "      <td>LA</td>\n",
       "      <td>1</td>\n",
       "      <td>4.928681</td>\n",
       "    </tr>\n",
       "    <tr>\n",
       "      <th>18859</th>\n",
       "      <td>1GHK37bdhKIkMabZPMMHUQ</td>\n",
       "      <td>0IjDqJexP6jTH4F_Kg4mrQ</td>\n",
       "      <td>3142</td>\n",
       "      <td>We've booked from them a few years in a row an...</td>\n",
       "      <td>4.961404</td>\n",
       "      <td>A New Twist Balloons and Face Painting</td>\n",
       "      <td>285</td>\n",
       "      <td>Event Planning &amp; Services, Face Painting, Fest...</td>\n",
       "      <td></td>\n",
       "      <td>Boise</td>\n",
       "      <td>ID</td>\n",
       "      <td>1</td>\n",
       "      <td>4.925168</td>\n",
       "    </tr>\n",
       "    <tr>\n",
       "      <th>759</th>\n",
       "      <td>3RFoZPJwxqybmZ1IdBKPfw</td>\n",
       "      <td>ez4kMLP6OJEIaMbMrrGRdA</td>\n",
       "      <td>100646</td>\n",
       "      <td>This was such a great experience! Roger was am...</td>\n",
       "      <td>4.967593</td>\n",
       "      <td>New Orleans Secrets Tours</td>\n",
       "      <td>216</td>\n",
       "      <td>Souvenir Shops, Historical Tours, Arts &amp; Enter...</td>\n",
       "      <td>519 Wilkinson St, Ste 100</td>\n",
       "      <td>New Orleans</td>\n",
       "      <td>LA</td>\n",
       "      <td>1</td>\n",
       "      <td>4.920238</td>\n",
       "    </tr>\n",
       "    <tr>\n",
       "      <th>20553</th>\n",
       "      <td>udXsGaCNbhz4FweZnEtXMw</td>\n",
       "      <td>ak-RiYgUZzM_90c8ONWFzw</td>\n",
       "      <td>90747</td>\n",
       "      <td>Okay first off researching and picking a photo...</td>\n",
       "      <td>4.977528</td>\n",
       "      <td>Burgundy Blue Photography</td>\n",
       "      <td>178</td>\n",
       "      <td>Professional Services, Event Planning &amp; Servic...</td>\n",
       "      <td>1100 Anacapa St</td>\n",
       "      <td>Santa Barbara</td>\n",
       "      <td>CA</td>\n",
       "      <td>1</td>\n",
       "      <td>4.920082</td>\n",
       "    </tr>\n",
       "  </tbody>\n",
       "</table>\n",
       "</div>"
      ],
      "text/plain": [
       "                    review_id             business_id  businessid  \\\n",
       "14721  X767MHcDjzoKIVkTZe_9gQ  NDwoKO79_T49UEKVDlHd3A       56737   \n",
       "16775  JAzjsCSnB8RAZ6g_p9uLcg  B2Tuf5M1wQhdwAKnD-w7Yw       28619   \n",
       "18859  1GHK37bdhKIkMabZPMMHUQ  0IjDqJexP6jTH4F_Kg4mrQ        3142   \n",
       "759    3RFoZPJwxqybmZ1IdBKPfw  ez4kMLP6OJEIaMbMrrGRdA      100646   \n",
       "20553  udXsGaCNbhz4FweZnEtXMw  ak-RiYgUZzM_90c8ONWFzw       90747   \n",
       "\n",
       "                                                    text  meanStar  \\\n",
       "14721  Fantastic, first class experience both tasting...  4.983562   \n",
       "16775  This is a wonderful trip on a warm winter day....  4.965035   \n",
       "18859  We've booked from them a few years in a row an...  4.961404   \n",
       "759    This was such a great experience! Roger was am...  4.967593   \n",
       "20553  Okay first off researching and picking a photo...  4.977528   \n",
       "\n",
       "                                         name  numRate  \\\n",
       "14721                  Sustainable Wine Tours      365   \n",
       "16775               New Orleans Airboat Tours      286   \n",
       "18859  A New Twist Balloons and Face Painting      285   \n",
       "759                 New Orleans Secrets Tours      216   \n",
       "20553               Burgundy Blue Photography      178   \n",
       "\n",
       "                                              categories  \\\n",
       "14721  Wine Tours, Hotels & Travel, Tours, Transporta...   \n",
       "16775  Tours, Active Life, Bus Tours, Hotels & Travel...   \n",
       "18859  Event Planning & Services, Face Painting, Fest...   \n",
       "759    Souvenir Shops, Historical Tours, Arts & Enter...   \n",
       "20553  Professional Services, Event Planning & Servic...   \n",
       "\n",
       "                           address           city state  is_open     score  \n",
       "14721  27 West Anapamu St, Ste 104  Santa Barbara    CA        1  4.953705  \n",
       "16775             4757 Orleans Way        Marrero    LA        1  4.928681  \n",
       "18859                                       Boise    ID        1  4.925168  \n",
       "759      519 Wilkinson St, Ste 100    New Orleans    LA        1  4.920238  \n",
       "20553              1100 Anacapa St  Santa Barbara    CA        1  4.920082  "
      ]
     },
     "execution_count": 14,
     "metadata": {},
     "output_type": "execute_result"
    }
   ],
   "source": [
    "q_ressPD.head(5)"
   ]
  },
  {
   "cell_type": "code",
   "execution_count": 15,
   "metadata": {},
   "outputs": [],
   "source": [
    "with open('../data/res_df.pickle', 'wb') as handle:\n",
    "    pickle.dump(q_ressPD[['review_id','business_id','businessid','name']], handle, protocol=pickle.HIGHEST_PROTOCOL)"
   ]
  },
  {
   "attachments": {},
   "cell_type": "markdown",
   "metadata": {},
   "source": [
    "# Old"
   ]
  },
  {
   "cell_type": "code",
   "execution_count": null,
   "metadata": {},
   "outputs": [],
   "source": [
    "from pyspark.ml.feature import Tokenizer, HashingTF, IDF\n",
    "from pyspark.ml.pipeline import Pipeline\n",
    "\n",
    "tokenizer = Tokenizer(inputCol=\"text\", outputCol=\"words\")\n",
    "hashingTF = HashingTF(numFeatures=10000,inputCol=\"words\", outputCol=\"rawFeatures\")\n",
    "idf = IDF(inputCol=\"rawFeatures\", outputCol=\"features\")\n",
    "pipeline = Pipeline(stages=[tokenizer, hashingTF, idf])\n",
    "model = pipeline.fit(df_with_row_number)\n",
    "result = model.transform(df_with_row_number)\n"
   ]
  },
  {
   "cell_type": "code",
   "execution_count": null,
   "metadata": {},
   "outputs": [],
   "source": [
    "result.write.format(\"json\").mode(\"overwrite\").save(\"../data/results.json\")"
   ]
  },
  {
   "cell_type": "code",
   "execution_count": null,
   "metadata": {},
   "outputs": [],
   "source": [
    "result=spark.read.json('../data/results.json')"
   ]
  },
  {
   "cell_type": "code",
   "execution_count": null,
   "metadata": {},
   "outputs": [],
   "source": [
    "result.show(2)"
   ]
  },
  {
   "cell_type": "code",
   "execution_count": null,
   "metadata": {},
   "outputs": [],
   "source": [
    "matrix=result.select('business_id','features')"
   ]
  },
  {
   "cell_type": "code",
   "execution_count": null,
   "metadata": {},
   "outputs": [],
   "source": [
    "matrix.show(3)"
   ]
  },
  {
   "cell_type": "code",
   "execution_count": null,
   "metadata": {},
   "outputs": [],
   "source": [
    "matrix.write.parquet(\"../data/tfidfs.parquet\")"
   ]
  },
  {
   "cell_type": "code",
   "execution_count": null,
   "metadata": {},
   "outputs": [],
   "source": [
    "matrix=spark.read.parquet('../data/tfidfs.parquet')"
   ]
  },
  {
   "cell_type": "code",
   "execution_count": null,
   "metadata": {},
   "outputs": [],
   "source": [
    "similarity_udf = udf(lambda x, y: float(x.dot(y)) / (x.numNonzeros() * y.numNonzeros()), DoubleType())\n",
    "joined_data = matrix.alias('d1').join(matrix.alias('d2'), on=col('d1.business_id') != col('d2.business_id'))\n",
    "similarity_scores = joined_data.select(col('d1.business_id').alias('business_id_1'), col('d2.business_id').alias('business_id_2'), similarity_udf(col('d1.features'), col('d2.features')).alias('similarity'))\n",
    "top_related_businesses = similarity_scores.groupBy('business_id_1').agg(collect_list(struct('business_id_2', 'similarity')).alias('related_businesses'))"
   ]
  },
  {
   "cell_type": "code",
   "execution_count": null,
   "metadata": {},
   "outputs": [],
   "source": [
    "top_related_businesses = top_related_businesses.withColumn('top10_related_businesses', udf(lambda related_businesses: [x[0] for x in sorted(related_businesses, key=lambda x: x[1], reverse=True)[:5]], ArrayType(StringType()))(col('related_businesses'))).select('business_id_1', 'top10_related_businesses')\n"
   ]
  },
  {
   "cell_type": "code",
   "execution_count": null,
   "metadata": {},
   "outputs": [],
   "source": [
    "top_related_businesses.write.format('json').mode(\"overwrite\").save(\"../data/related.json\")"
   ]
  },
  {
   "cell_type": "code",
   "execution_count": null,
   "metadata": {},
   "outputs": [],
   "source": [
    "from pyspark.ml.linalg import SparseVector\n",
    "\n",
    "num_features=10000\n",
    "sparse_vectors = matrix.rdd.map(lambda row: row['features'].toArray()) \\\n",
    "                             .map(lambda arr: SparseVector(num_features, [(i, arr[i]) for i in range(num_features)]))"
   ]
  },
  {
   "cell_type": "code",
   "execution_count": null,
   "metadata": {},
   "outputs": [],
   "source": [
    "sparse_vectors.take(1)"
   ]
  },
  {
   "cell_type": "code",
   "execution_count": null,
   "metadata": {},
   "outputs": [],
   "source": [
    "similarity_matrix = sparse_vectors.cartesian(sparse_vectors).map(lambda x: (x[0][0], x[1][0], x[0][1].dot(x[1][1])))\n",
    "\n",
    "schema = StructType([\n",
    "    StructField(\"id1\", IntegerType(), True),\n",
    "    StructField(\"id2\", IntegerType(), True),\n",
    "    StructField(\"similarity\", DoubleType(), True)\n",
    "])\n",
    "\n",
    "similarity_df = similarity_matrix.toDF(schema)\n"
   ]
  },
  {
   "cell_type": "code",
   "execution_count": null,
   "metadata": {},
   "outputs": [],
   "source": [
    "similarity_df = similarity_df.select(\"*\", monotonically_increasing_id().alias(\"row_id\"))\n",
    "\n",
    "# Optionally, cache the DataFrame for better performance\n",
    "similarity_df.cache()"
   ]
  },
  {
   "cell_type": "code",
   "execution_count": null,
   "metadata": {},
   "outputs": [],
   "source": [
    "similarity_matrix = sparse_vectors.cartesian(sparse_vectors).map(lambda x: (x[0].dot(x[1]),))"
   ]
  },
  {
   "cell_type": "code",
   "execution_count": null,
   "metadata": {},
   "outputs": [],
   "source": [
    "similarity_rows = similarity_matrix.filter(lambda row: len(row) >= 3) \\\n",
    "    .map(lambda row: Row(id1=row[0], id2=row[1], similarity=row[2])).toDF()"
   ]
  },
  {
   "cell_type": "code",
   "execution_count": null,
   "metadata": {},
   "outputs": [],
   "source": [
    "from pyspark.sql import Row\n",
    "\n",
    "# similarity_rows = similarity_matrix.filter(lambda x: len(x) >= 3).map(lambda x: Row(id1=x[0], id2=x[1], similarity=x[2])).collect()\n",
    "\n",
    "similarity_rows = similarity_matrix.filter(lambda row: len(row) >= 3) \\\n",
    "    .map(lambda row: Row(id1=row[0], id2=row[1], similarity=row[2])).toDF()\n",
    "\n",
    "# similarity_df = spark.createDataFrame(similarity_rows)\n",
    "\n",
    "# similarity_df.take(1)"
   ]
  },
  {
   "cell_type": "code",
   "execution_count": null,
   "metadata": {},
   "outputs": [],
   "source": [
    "similarity_df.write.parquet(\"../data/similarity.parquet\")"
   ]
  },
  {
   "cell_type": "code",
   "execution_count": null,
   "metadata": {},
   "outputs": [],
   "source": [
    "similarity_matrix = sparse_vectors.cartesian(sparse_vectors).map(lambda x: (x[0].dot(x[1]),)).toDF(['similarity'])"
   ]
  },
  {
   "attachments": {},
   "cell_type": "markdown",
   "metadata": {},
   "source": [
    "# New"
   ]
  },
  {
   "cell_type": "code",
   "execution_count": 17,
   "metadata": {},
   "outputs": [],
   "source": [
    "a=q_ressPD"
   ]
  },
  {
   "cell_type": "code",
   "execution_count": 18,
   "metadata": {},
   "outputs": [
    {
     "data": {
      "text/plain": [
       "(22686, 32652)"
      ]
     },
     "execution_count": 18,
     "metadata": {},
     "output_type": "execute_result"
    }
   ],
   "source": [
    "tfidf = TfidfVectorizer(stop_words='english')\n",
    "\n",
    "a['text'] = a['text'].fillna('')\n",
    "\n",
    "tfidf_matrix = tfidf.fit_transform(a['text'])\n",
    "tfidf_matrix.shape "
   ]
  },
  {
   "cell_type": "code",
   "execution_count": null,
   "metadata": {},
   "outputs": [],
   "source": [
    "cosine_sim = linear_kernel(tfidf_matrix, tfidf_matrix)\n",
    "indices = pd.Series(a.index, index=a['name']).drop_duplicates()"
   ]
  },
  {
   "cell_type": "code",
   "execution_count": null,
   "metadata": {},
   "outputs": [],
   "source": [
    "def get_recommendations(text, cosine_sim=cosine_sim):\n",
    "    idx = indices[text]\n",
    "    sim_scores = list(enumerate(cosine_sim[idx]))\n",
    "    sim_scores = sorted(sim_scores, key=lambda x: x[1], reverse=True)\n",
    "    sim_scores = sim_scores[1:6]\n",
    "    res_indices = [i[0] for i in sim_scores]\n",
    "    res_similarity = [i[1] for i in sim_scores]\n",
    "\n",
    "    return pd.DataFrame(zip(a['name'].iloc[res_indices], res_similarity), columns=[\"name\", \"similarity\"])"
   ]
  },
  {
   "cell_type": "code",
   "execution_count": null,
   "metadata": {},
   "outputs": [],
   "source": [
    "scipy.sparse.save_npz('../data/res_matrix.npz', tfidf_matrix)"
   ]
  },
  {
   "cell_type": "code",
   "execution_count": null,
   "metadata": {},
   "outputs": [],
   "source": [
    "get_recommendations('Liberties Parcel')"
   ]
  },
  {
   "cell_type": "code",
   "execution_count": null,
   "metadata": {},
   "outputs": [],
   "source": [
    "get_recommendations('SkinRN Aesthetics')"
   ]
  },
  {
   "cell_type": "code",
   "execution_count": null,
   "metadata": {},
   "outputs": [],
   "source": []
  }
 ],
 "metadata": {
  "kernelspec": {
   "display_name": "demo2",
   "language": "python",
   "name": "python3"
  },
  "language_info": {
   "codemirror_mode": {
    "name": "ipython",
    "version": 3
   },
   "file_extension": ".py",
   "mimetype": "text/x-python",
   "name": "python",
   "nbconvert_exporter": "python",
   "pygments_lexer": "ipython3",
   "version": "3.9.0"
  },
  "orig_nbformat": 4
 },
 "nbformat": 4,
 "nbformat_minor": 2
}
