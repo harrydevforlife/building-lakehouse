{
 "cells": [
  {
   "cell_type": "code",
   "execution_count": 2,
   "metadata": {},
   "outputs": [],
   "source": [
    "from pyspark.sql import Window\n",
    "from pyspark.sql.window import *\n",
    "from pyspark.sql.functions import *\n",
    "from pyspark.sql.types import *\n",
    "from pyspark.ml.recommendation import ALSModel"
   ]
  },
  {
   "cell_type": "code",
   "execution_count": 1,
   "metadata": {},
   "outputs": [],
   "source": [
    "import findspark\n",
    "\n",
    "findspark.init()\n",
    "\n",
    "from pyspark.sql import SparkSession\n",
    "spark = SparkSession.builder \\\n",
    "    .appName(\"MyApp\") \\\n",
    "    .master(\"local\") \\\n",
    "    .getOrCreate()"
   ]
  },
  {
   "cell_type": "code",
   "execution_count": null,
   "metadata": {},
   "outputs": [],
   "source": [
    "business = spark.read.json(\"../../temp/yelp_json_yelp_academic_dataset_business.json\")\n",
    "review = spark.read.json(\"../../temp/yelp_json_yelp_academic_dataset_review.json\")\n",
    "user = spark.read.json(\"../../temp/yelp_json_yelp_academic_dataset_user.json\")"
   ]
  },
  {
   "cell_type": "code",
   "execution_count": 17,
   "metadata": {},
   "outputs": [],
   "source": [
    "userRatings=review.groupBy(\"user_id\").count()\n",
    "window = Window.orderBy(col('user_id'))\n",
    "userRatings = userRatings.withColumn('userid', row_number().over(window))\n",
    "buiRatings=review.groupBy(\"business_id\").count()\n",
    "window = Window.orderBy(col('business_id'))\n",
    "buiRatings = buiRatings.withColumn('businessid', row_number().over(window))\n",
    "newratings=review.join(userRatings, ['user_id'])\n",
    "newratings=newratings.join(buiRatings, ['business_id'])\n",
    "newratings=newratings.withColumn(\"stars\",col(\"stars\").cast(IntegerType()))\n",
    "newratings=newratings.withColumn(\"date\",to_timestamp(\"date\"))"
   ]
  },
  {
   "cell_type": "code",
   "execution_count": 3,
   "metadata": {},
   "outputs": [],
   "source": [
    "model=ALSModel.load(\"..\\data\\save\")"
   ]
  },
  {
   "cell_type": "code",
   "execution_count": 18,
   "metadata": {},
   "outputs": [
    {
     "name": "stderr",
     "output_type": "stream",
     "text": [
      "D:\\spark\\python\\pyspark\\sql\\context.py:125: FutureWarning: Deprecated in 3.0.0. Use SparkSession.builder.getOrCreate() instead.\n",
      "  warnings.warn(\n"
     ]
    },
    {
     "name": "stdout",
     "output_type": "stream",
     "text": [
      "+------+----------+---------+\n",
      "|userid|businessid|   rating|\n",
      "+------+----------+---------+\n",
      "|     2|     35182|7.3350387|\n",
      "|     2|    140227|7.2798605|\n",
      "|     2|     62843| 7.273821|\n",
      "|     2|     46174|7.1696444|\n",
      "|     2|    102258| 6.989647|\n",
      "|     2|     73731| 6.934354|\n",
      "|     2|     81355|6.8198047|\n",
      "|     2|     82077|6.8111367|\n",
      "|     2|     72090|6.7951193|\n",
      "|     2|    111232|6.7868247|\n",
      "|     2|     36492|6.7769537|\n",
      "|     2|    128580|6.7675514|\n",
      "|     2|     38648| 6.743578|\n",
      "|     2|     48202|6.7410393|\n",
      "|     2|     77870|6.7246947|\n",
      "|     2|     17069| 6.716116|\n",
      "|     2|     43128|6.7052073|\n",
      "|     2|      9574| 6.693309|\n",
      "|     2|    106583| 6.660489|\n",
      "|     2|     20597| 6.645897|\n",
      "+------+----------+---------+\n",
      "only showing top 20 rows\n",
      "\n"
     ]
    }
   ],
   "source": [
    "userid = [ [2]]\n",
    "\n",
    "useridColumns = StructType([StructField(\"userid\", IntegerType())])\n",
    "deptDF = spark.createDataFrame(data=userid, schema = useridColumns)\n",
    "\n",
    "userSubsetRecs = model.recommendForUserSubset(deptDF, 1000)\n",
    "nrecommendations = userSubsetRecs\\\n",
    "    .withColumn(\"rec_exp\", explode(\"recommendations\"))\\\n",
    "    .select('userid', col(\"rec_exp.businessid\"), col(\"rec_exp.rating\"))\n",
    "\n",
    "nrecommendations.show()"
   ]
  },
  {
   "cell_type": "code",
   "execution_count": 19,
   "metadata": {},
   "outputs": [],
   "source": [
    "import pickle\n",
    "with open('../data/res_scores.pickle', 'rb') as handle:\n",
    "    res = pickle.load(handle)\n",
    "nrecommendations=nrecommendations.filter(col('businessid').isin(list(res[\"businessid\"])))"
   ]
  },
  {
   "cell_type": "code",
   "execution_count": 21,
   "metadata": {},
   "outputs": [
    {
     "data": {
      "text/html": [
       "<div>\n",
       "<style scoped>\n",
       "    .dataframe tbody tr th:only-of-type {\n",
       "        vertical-align: middle;\n",
       "    }\n",
       "\n",
       "    .dataframe tbody tr th {\n",
       "        vertical-align: top;\n",
       "    }\n",
       "\n",
       "    .dataframe thead th {\n",
       "        text-align: right;\n",
       "    }\n",
       "</style>\n",
       "<table border=\"1\" class=\"dataframe\">\n",
       "  <thead>\n",
       "    <tr style=\"text-align: right;\">\n",
       "      <th></th>\n",
       "      <th>business_id</th>\n",
       "      <th>name</th>\n",
       "      <th>score</th>\n",
       "    </tr>\n",
       "  </thead>\n",
       "  <tbody>\n",
       "    <tr>\n",
       "      <th>5766</th>\n",
       "      <td>FYQI6L-Ty_k2O-UP_T1DAA</td>\n",
       "      <td>Elevated Wellness</td>\n",
       "      <td>4.781041</td>\n",
       "    </tr>\n",
       "    <tr>\n",
       "      <th>1852</th>\n",
       "      <td>f4rSatoGZoW2p_4OWrDZ1A</td>\n",
       "      <td>Tempus</td>\n",
       "      <td>4.723525</td>\n",
       "    </tr>\n",
       "    <tr>\n",
       "      <th>18902</th>\n",
       "      <td>2HDRsM0c-k8KAmKiMaDw6A</td>\n",
       "      <td>Captain Andy's Market</td>\n",
       "      <td>4.638445</td>\n",
       "    </tr>\n",
       "    <tr>\n",
       "      <th>10869</th>\n",
       "      <td>qCgaKAj-CbU0L1EzaJrQug</td>\n",
       "      <td>Hop House Tennessee Taps</td>\n",
       "      <td>4.628672</td>\n",
       "    </tr>\n",
       "    <tr>\n",
       "      <th>777</th>\n",
       "      <td>fsGytCX6xLYIM4oniPP-og</td>\n",
       "      <td>Louisiana's Soul Bayou</td>\n",
       "      <td>4.602937</td>\n",
       "    </tr>\n",
       "    <tr>\n",
       "      <th>22393</th>\n",
       "      <td>XD32ijW7RqkVeaTvOty_Kw</td>\n",
       "      <td>Cardinal Landscaping</td>\n",
       "      <td>4.503389</td>\n",
       "    </tr>\n",
       "    <tr>\n",
       "      <th>15409</th>\n",
       "      <td>yhMpYBlu_yimn9sT-cIayA</td>\n",
       "      <td>Fitz and Starts</td>\n",
       "      <td>4.474044</td>\n",
       "    </tr>\n",
       "    <tr>\n",
       "      <th>5406</th>\n",
       "      <td>vRVoNDTLQl0lF212AjXepA</td>\n",
       "      <td>Made by Lia</td>\n",
       "      <td>4.471835</td>\n",
       "    </tr>\n",
       "    <tr>\n",
       "      <th>8991</th>\n",
       "      <td>1Sl5-YrdHQNwd_LuKbxQ7A</td>\n",
       "      <td>Copper Shaker</td>\n",
       "      <td>4.403525</td>\n",
       "    </tr>\n",
       "    <tr>\n",
       "      <th>1784</th>\n",
       "      <td>_uQEKHH0R5fxrYkLrUI9pQ</td>\n",
       "      <td>Gu Wei Noodles &amp; Grill</td>\n",
       "      <td>4.347151</td>\n",
       "    </tr>\n",
       "  </tbody>\n",
       "</table>\n",
       "</div>"
      ],
      "text/plain": [
       "                  business_id                      name     score\n",
       "5766   FYQI6L-Ty_k2O-UP_T1DAA         Elevated Wellness  4.781041\n",
       "1852   f4rSatoGZoW2p_4OWrDZ1A                    Tempus  4.723525\n",
       "18902  2HDRsM0c-k8KAmKiMaDw6A     Captain Andy's Market  4.638445\n",
       "10869  qCgaKAj-CbU0L1EzaJrQug  Hop House Tennessee Taps  4.628672\n",
       "777    fsGytCX6xLYIM4oniPP-og    Louisiana's Soul Bayou  4.602937\n",
       "22393  XD32ijW7RqkVeaTvOty_Kw      Cardinal Landscaping  4.503389\n",
       "15409  yhMpYBlu_yimn9sT-cIayA           Fitz and Starts  4.474044\n",
       "5406   vRVoNDTLQl0lF212AjXepA               Made by Lia  4.471835\n",
       "8991   1Sl5-YrdHQNwd_LuKbxQ7A             Copper Shaker  4.403525\n",
       "1784   _uQEKHH0R5fxrYkLrUI9pQ    Gu Wei Noodles & Grill  4.347151"
      ]
     },
     "execution_count": 21,
     "metadata": {},
     "output_type": "execute_result"
    }
   ],
   "source": [
    "nrecommendations=nrecommendations.limit(10)\n",
    "lst = nrecommendations.select('businessid').rdd.flatMap(lambda x: x).collect()\n",
    "col1_list = list(lst)\n",
    "lstres = res[res['businessid'].isin(col1_list)]\n",
    "lstres[[\"business_id\", \"name\", \"score\"]]"
   ]
  },
  {
   "cell_type": "code",
   "execution_count": 13,
   "metadata": {},
   "outputs": [
    {
     "name": "stdout",
     "output_type": "stream",
     "text": [
      "+------+----------+---------+\n",
      "|userid|businessid|   rating|\n",
      "+------+----------+---------+\n",
      "|     2|    100920|6.3240767|\n",
      "|     2|     80273|6.2439375|\n",
      "|     2|    127192|6.1891665|\n",
      "|     2|    102835|6.1520953|\n",
      "|     2|    147315|6.0846972|\n",
      "|     2|    139478|6.0144596|\n",
      "|     2|      7844|6.0132546|\n",
      "|     2|     88919|   6.0092|\n",
      "|     2|      5946|5.9493423|\n",
      "|     2|     39082|5.9452047|\n",
      "|     2|     92121|5.9278507|\n",
      "|     2|     88077|5.9215956|\n",
      "|     2|    146139|5.9161215|\n",
      "|     2|     55870| 5.898738|\n",
      "|     2|     72088| 5.893149|\n",
      "|     2|     61334| 5.885145|\n",
      "|     2|     31964| 5.872604|\n",
      "|     2|     17936|5.8648252|\n",
      "|     2|     58314| 5.856209|\n",
      "|     2|    132934|5.8504457|\n",
      "+------+----------+---------+\n",
      "only showing top 20 rows\n",
      "\n"
     ]
    }
   ],
   "source": [
    "nrecommendations.show()"
   ]
  },
  {
   "cell_type": "code",
   "execution_count": null,
   "metadata": {},
   "outputs": [],
   "source": []
  }
 ],
 "metadata": {
  "kernelspec": {
   "display_name": "Python 3",
   "language": "python",
   "name": "python3"
  },
  "language_info": {
   "codemirror_mode": {
    "name": "ipython",
    "version": 3
   },
   "file_extension": ".py",
   "mimetype": "text/x-python",
   "name": "python",
   "nbconvert_exporter": "python",
   "pygments_lexer": "ipython3",
   "version": "3.9.0"
  },
  "orig_nbformat": 4
 },
 "nbformat": 4,
 "nbformat_minor": 2
}
