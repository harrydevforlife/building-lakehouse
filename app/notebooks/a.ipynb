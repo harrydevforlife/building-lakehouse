{
 "cells": [
  {
   "cell_type": "code",
   "execution_count": 18,
   "metadata": {},
   "outputs": [],
   "source": [
    "from pyspark.sql import Window\n",
    "from pyspark.sql.window import *\n",
    "from pyspark.sql.functions import *\n",
    "from pyspark.sql.types import *\n",
    "from pyspark.ml.recommendation import ALSModel"
   ]
  },
  {
   "cell_type": "code",
   "execution_count": 2,
   "metadata": {},
   "outputs": [],
   "source": [
    "import findspark\n",
    "\n",
    "findspark.init()\n",
    "\n",
    "from pyspark.sql import SparkSession\n",
    "spark = SparkSession.builder \\\n",
    "    .appName(\"MyApp\") \\\n",
    "    .master(\"local\") \\\n",
    "    .getOrCreate()"
   ]
  },
  {
   "cell_type": "code",
   "execution_count": 7,
   "metadata": {},
   "outputs": [],
   "source": [
    "business = spark.read.json(\"../../temp/yelp_json_yelp_academic_dataset_business.json\")\n",
    "review = spark.read.json(\"../../temp/yelp_json_yelp_academic_dataset_review.json\")\n",
    "user = spark.read.json(\"../../temp/yelp_json_yelp_academic_dataset_user.json\")"
   ]
  },
  {
   "cell_type": "code",
   "execution_count": 17,
   "metadata": {},
   "outputs": [],
   "source": [
    "userRatings=review.groupBy(\"user_id\").count()\n",
    "window = Window.orderBy(col('user_id'))\n",
    "userRatings = userRatings.withColumn('userid', row_number().over(window))\n",
    "buiRatings=review.groupBy(\"business_id\").count()\n",
    "window = Window.orderBy(col('business_id'))\n",
    "buiRatings = buiRatings.withColumn('businessid', row_number().over(window))\n",
    "newratings=review.join(userRatings, ['user_id'])\n",
    "newratings=newratings.join(buiRatings, ['business_id'])\n",
    "newratings=newratings.withColumn(\"stars\",col(\"stars\").cast(IntegerType()))\n",
    "newratings=newratings.withColumn(\"date\",to_timestamp(\"date\"))"
   ]
  },
  {
   "cell_type": "code",
   "execution_count": 19,
   "metadata": {},
   "outputs": [],
   "source": [
    "model=ALSModel.load(\"D:\\Movie_Recommendation\\data\\save\")"
   ]
  },
  {
   "cell_type": "code",
   "execution_count": 35,
   "metadata": {},
   "outputs": [
    {
     "name": "stdout",
     "output_type": "stream",
     "text": [
      "+------+--------------------+-------------------+\n",
      "|userid|     recommendations|            rec_exp|\n",
      "+------+--------------------+-------------------+\n",
      "|     2|[{35182, 7.335038...| {35182, 7.3350387}|\n",
      "|     2|[{35182, 7.335038...|{140227, 7.2798605}|\n",
      "|     2|[{35182, 7.335038...|  {62843, 7.273821}|\n",
      "|     2|[{35182, 7.335038...| {46174, 7.1696444}|\n",
      "|     2|[{35182, 7.335038...| {102258, 6.989647}|\n",
      "+------+--------------------+-------------------+\n",
      "\n"
     ]
    }
   ],
   "source": [
    "userid = [ [2]]\n",
    "\n",
    "useridColumns = StructType([StructField(\"userid\", IntegerType())])\n",
    "deptDF = spark.createDataFrame(data=userid, schema = useridColumns)\n",
    "\n",
    "userSubsetRecs = model.recommendForUserSubset(deptDF, 5)\n",
    "nrecommendations = userSubsetRecs\\\n",
    "    .withColumn(\"rec_exp\", explode(\"recommendations\"))\\\n",
    "    .select('userid', col(\"rec_exp.businessid\"), col(\"rec_exp.rating\"))\n",
    "\n",
    "nrecommendations.show()"
   ]
  },
  {
   "cell_type": "code",
   "execution_count": null,
   "metadata": {},
   "outputs": [],
   "source": []
  }
 ],
 "metadata": {
  "kernelspec": {
   "display_name": "Python 3",
   "language": "python",
   "name": "python3"
  },
  "language_info": {
   "codemirror_mode": {
    "name": "ipython",
    "version": 3
   },
   "file_extension": ".py",
   "mimetype": "text/x-python",
   "name": "python",
   "nbconvert_exporter": "python",
   "pygments_lexer": "ipython3",
   "version": "3.9.0"
  },
  "orig_nbformat": 4
 },
 "nbformat": 4,
 "nbformat_minor": 2
}
